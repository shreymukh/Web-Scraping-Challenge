{
 "cells": [
  {
   "cell_type": "code",
   "execution_count": 1,
   "metadata": {},
   "outputs": [],
   "source": [
    "# Import Splinter and BeautifulSoup\n",
    "from splinter import Browser\n",
    "from bs4 import BeautifulSoup\n",
    "import requests\n",
    "import urllib.parse\n",
    "import pymongo\n",
    "import pprint\n",
    "import pandas as pd"
   ]
  },
  {
   "cell_type": "code",
   "execution_count": 32,
   "metadata": {},
   "outputs": [],
   "source": [
    "# SCRAPING https://astrogeology.usgs.gov/search/results?q=hemisphere+enhanced&k1=target&v1=Mars\n",
    "\n",
    "# Set the executable path and initialize the chrome browser in splinter\n",
    "executable_path = {\"executable_path\":\"chromedriver.exe\"}\n",
    "browser = Browser(\"chrome\", **executable_path, headless=False)\n",
    "browser.visit(\"https://astrogeology.usgs.gov/search/results?q=hemisphere+enhanced&k1=target&v1=Mars\")"
   ]
  },
  {
   "cell_type": "code",
   "execution_count": 34,
   "metadata": {},
   "outputs": [
    {
     "name": "stdout",
     "output_type": "stream",
     "text": [
      "200\n"
     ]
    }
   ],
   "source": [
    "url = \"https://astrogeology.usgs.gov/search/results?q=hemisphere+enhanced&k1=target&v1=Mars\"\n",
    "response = requests.get(url)\n",
    "print(response.status_code)"
   ]
  },
  {
   "cell_type": "code",
   "execution_count": 4,
   "metadata": {},
   "outputs": [],
   "source": [
    "#response.text"
   ]
  },
  {
   "cell_type": "code",
   "execution_count": 35,
   "metadata": {},
   "outputs": [
    {
     "name": "stdout",
     "output_type": "stream",
     "text": [
      "img\n"
     ]
    }
   ],
   "source": [
    "searchterm = urllib.parse.quote('img')\n",
    "print(searchterm)"
   ]
  },
  {
   "cell_type": "code",
   "execution_count": 36,
   "metadata": {},
   "outputs": [],
   "source": [
    "# Convert the browser html to a soup object \n",
    "soup = browser.html\n",
    "news_soup = BeautifulSoup(soup, 'html.parser')\n",
    "#print(news_soup.prettify())"
   ]
  },
  {
   "cell_type": "code",
   "execution_count": 37,
   "metadata": {},
   "outputs": [
    {
     "name": "stdout",
     "output_type": "stream",
     "text": [
      "<img alt=\"Cerberus Hemisphere Enhanced thumbnail\" class=\"thumb\" src=\"/cache/images/dfaf3849e74bf973b59eb50dab52b583_cerberus_enhanced.tif_thumb.png\"/>\n"
     ]
    }
   ],
   "source": [
    "link = news_soup.find(\"img\", class_='thumb')\n",
    "print(link)"
   ]
  },
  {
   "cell_type": "code",
   "execution_count": 38,
   "metadata": {},
   "outputs": [
    {
     "name": "stdout",
     "output_type": "stream",
     "text": [
      "[<img alt=\"Cerberus Hemisphere Enhanced thumbnail\" class=\"thumb\" src=\"/cache/images/dfaf3849e74bf973b59eb50dab52b583_cerberus_enhanced.tif_thumb.png\"/>, <img alt=\"Schiaparelli Hemisphere Enhanced thumbnail\" class=\"thumb\" src=\"/cache/images/7677c0a006b83871b5a2f66985ab5857_schiaparelli_enhanced.tif_thumb.png\"/>, <img alt=\"Syrtis Major Hemisphere Enhanced thumbnail\" class=\"thumb\" src=\"/cache/images/aae41197e40d6d4f3ea557f8cfe51d15_syrtis_major_enhanced.tif_thumb.png\"/>, <img alt=\"Valles Marineris Hemisphere Enhanced thumbnail\" class=\"thumb\" src=\"/cache/images/04085d99ec3713883a9a57f42be9c725_valles_marineris_enhanced.tif_thumb.png\"/>]\n"
     ]
    }
   ],
   "source": [
    "link_all = news_soup.find_all(\"img\", class_=\"thumb\")\n",
    "print(link_all)"
   ]
  },
  {
   "cell_type": "code",
   "execution_count": 24,
   "metadata": {},
   "outputs": [
    {
     "name": "stdout",
     "output_type": "stream",
     "text": [
      "[<img alt=\"USGS: Science for a Changing World\" class=\"logo\" height=\"60\" src=\"/images/usgs_logo_main_2x.png\"/>, <img alt=\"NASA\" class=\"logo\" height=\"65\" src=\"/images/logos/nasa-logo-web-med.png\"/>, <img alt=\"PDS Cartography and Imaging Science Node\" class=\"logo\" height=\"65\" src=\"/images/pds_logo-invisible-web.png\"/>, <img alt=\"Astropedia\" src=\"/images/astropedia/astropedia-logo-main.png\" style=\"width:200px;border:none;float:right;\"/>, <img alt=\"Cerberus Hemisphere Enhanced thumbnail\" class=\"thumb\" src=\"/cache/images/dfaf3849e74bf973b59eb50dab52b583_cerberus_enhanced.tif_thumb.png\"/>, <img alt=\"Schiaparelli Hemisphere Enhanced thumbnail\" class=\"thumb\" src=\"/cache/images/7677c0a006b83871b5a2f66985ab5857_schiaparelli_enhanced.tif_thumb.png\"/>, <img alt=\"Syrtis Major Hemisphere Enhanced thumbnail\" class=\"thumb\" src=\"/cache/images/aae41197e40d6d4f3ea557f8cfe51d15_syrtis_major_enhanced.tif_thumb.png\"/>, <img alt=\"Valles Marineris Hemisphere Enhanced thumbnail\" class=\"thumb\" src=\"/cache/images/04085d99ec3713883a9a57f42be9c725_valles_marineris_enhanced.tif_thumb.png\"/>, <img alt=\"ISIS Logo\" height=\"112\" src=\"/images/logos/isis_2x.jpg\" width=\"112\"/>, <img alt=\"Nomenclature Logo\" height=\"112\" src=\"/images/logos/nomenclature_2x.jpg\" width=\"112\"/>, <img alt=\"Map-a-Planet Logo\" height=\"112\" src=\"/images/logos/map_a_planet_2x.jpg\" width=\"112\"/>, <img alt=\"PDS Logo\" height=\"112\" src=\"/images/pds_logo-black-web.png\"/>, <img alt=\"RPIF Logo\" height=\"112\" src=\"/images/logos/rpif_2x.jpg\" width=\"112\"/>, <img alt=\"Photogrammetry Guest Faciltiy Logo\" height=\"112\" src=\"/images/logos/photogrammetry_2x.jpg\" width=\"112\"/>, <img alt=\"Pilot Logo\" height=\"112\" src=\"/images/logos/pilot_2x.jpg\" width=\"112\"/>, <img alt=\"MRCTR GIS Lab Logo\" height=\"112\" src=\"/images/logos/mrctr_man_2x.png\" width=\"112\"/>]\n"
     ]
    }
   ],
   "source": [
    "images = news_soup.find_all('img')\n",
    "print(images)"
   ]
  },
  {
   "cell_type": "code",
   "execution_count": 39,
   "metadata": {},
   "outputs": [
    {
     "name": "stdout",
     "output_type": "stream",
     "text": [
      "/images/usgs_logo_main_2x.png\n",
      "/images/logos/nasa-logo-web-med.png\n",
      "/images/pds_logo-invisible-web.png\n",
      "/images/astropedia/astropedia-logo-main.png\n",
      "/cache/images/dfaf3849e74bf973b59eb50dab52b583_cerberus_enhanced.tif_thumb.png\n",
      "/cache/images/7677c0a006b83871b5a2f66985ab5857_schiaparelli_enhanced.tif_thumb.png\n",
      "/cache/images/aae41197e40d6d4f3ea557f8cfe51d15_syrtis_major_enhanced.tif_thumb.png\n",
      "/cache/images/04085d99ec3713883a9a57f42be9c725_valles_marineris_enhanced.tif_thumb.png\n",
      "/images/logos/isis_2x.jpg\n",
      "/images/logos/nomenclature_2x.jpg\n",
      "/images/logos/map_a_planet_2x.jpg\n",
      "/images/pds_logo-black-web.png\n",
      "/images/logos/rpif_2x.jpg\n",
      "/images/logos/photogrammetry_2x.jpg\n",
      "/images/logos/pilot_2x.jpg\n",
      "/images/logos/mrctr_man_2x.png\n"
     ]
    }
   ],
   "source": [
    "for image in images:\n",
    "    #print image source\n",
    "    print(image['src'])    "
   ]
  },
  {
   "cell_type": "code",
   "execution_count": 40,
   "metadata": {},
   "outputs": [
    {
     "name": "stdout",
     "output_type": "stream",
     "text": [
      "USGS: Science for a Changing World\n",
      "NASA\n",
      "PDS Cartography and Imaging Science Node\n",
      "Astropedia\n",
      "Cerberus Hemisphere Enhanced thumbnail\n",
      "Schiaparelli Hemisphere Enhanced thumbnail\n",
      "Syrtis Major Hemisphere Enhanced thumbnail\n",
      "Valles Marineris Hemisphere Enhanced thumbnail\n",
      "ISIS Logo\n",
      "Nomenclature Logo\n",
      "Map-a-Planet Logo\n",
      "PDS Logo\n",
      "RPIF Logo\n",
      "Photogrammetry Guest Faciltiy Logo\n",
      "Pilot Logo\n",
      "MRCTR GIS Lab Logo\n"
     ]
    }
   ],
   "source": [
    "for image in images:\n",
    "    #print alternate text\n",
    "    print(image['alt']) "
   ]
  },
  {
   "cell_type": "code",
   "execution_count": 41,
   "metadata": {},
   "outputs": [],
   "source": [
    "link=[]\n",
    "name=[]\n",
    "nasa_link = \"https://astrogeology.usgs.gov\"\n",
    "\n",
    "for image in images:\n",
    "    new_image = link.append(nasa_link + image['src'])\n",
    "    new_name = name.append(image['alt'])"
   ]
  },
  {
   "cell_type": "code",
   "execution_count": 42,
   "metadata": {},
   "outputs": [
    {
     "data": {
      "text/html": [
       "<div>\n",
       "<style scoped>\n",
       "    .dataframe tbody tr th:only-of-type {\n",
       "        vertical-align: middle;\n",
       "    }\n",
       "\n",
       "    .dataframe tbody tr th {\n",
       "        vertical-align: top;\n",
       "    }\n",
       "\n",
       "    .dataframe thead th {\n",
       "        text-align: right;\n",
       "    }\n",
       "</style>\n",
       "<table border=\"1\" class=\"dataframe\">\n",
       "  <thead>\n",
       "    <tr style=\"text-align: right;\">\n",
       "      <th></th>\n",
       "      <th>IMG_URL</th>\n",
       "      <th>TITLE</th>\n",
       "    </tr>\n",
       "  </thead>\n",
       "  <tbody>\n",
       "    <tr>\n",
       "      <th>0</th>\n",
       "      <td>https://astrogeology.usgs.gov/images/usgs_logo...</td>\n",
       "      <td>USGS: Science for a Changing World</td>\n",
       "    </tr>\n",
       "    <tr>\n",
       "      <th>1</th>\n",
       "      <td>https://astrogeology.usgs.gov/images/logos/nas...</td>\n",
       "      <td>NASA</td>\n",
       "    </tr>\n",
       "    <tr>\n",
       "      <th>2</th>\n",
       "      <td>https://astrogeology.usgs.gov/images/pds_logo-...</td>\n",
       "      <td>PDS Cartography and Imaging Science Node</td>\n",
       "    </tr>\n",
       "    <tr>\n",
       "      <th>3</th>\n",
       "      <td>https://astrogeology.usgs.gov/images/astropedi...</td>\n",
       "      <td>Astropedia</td>\n",
       "    </tr>\n",
       "    <tr>\n",
       "      <th>4</th>\n",
       "      <td>https://astrogeology.usgs.gov/cache/images/dfa...</td>\n",
       "      <td>Cerberus Hemisphere Enhanced thumbnail</td>\n",
       "    </tr>\n",
       "    <tr>\n",
       "      <th>5</th>\n",
       "      <td>https://astrogeology.usgs.gov/cache/images/767...</td>\n",
       "      <td>Schiaparelli Hemisphere Enhanced thumbnail</td>\n",
       "    </tr>\n",
       "    <tr>\n",
       "      <th>6</th>\n",
       "      <td>https://astrogeology.usgs.gov/cache/images/aae...</td>\n",
       "      <td>Syrtis Major Hemisphere Enhanced thumbnail</td>\n",
       "    </tr>\n",
       "    <tr>\n",
       "      <th>7</th>\n",
       "      <td>https://astrogeology.usgs.gov/cache/images/040...</td>\n",
       "      <td>Valles Marineris Hemisphere Enhanced thumbnail</td>\n",
       "    </tr>\n",
       "    <tr>\n",
       "      <th>8</th>\n",
       "      <td>https://astrogeology.usgs.gov/images/logos/isi...</td>\n",
       "      <td>ISIS Logo</td>\n",
       "    </tr>\n",
       "    <tr>\n",
       "      <th>9</th>\n",
       "      <td>https://astrogeology.usgs.gov/images/logos/nom...</td>\n",
       "      <td>Nomenclature Logo</td>\n",
       "    </tr>\n",
       "    <tr>\n",
       "      <th>10</th>\n",
       "      <td>https://astrogeology.usgs.gov/images/logos/map...</td>\n",
       "      <td>Map-a-Planet Logo</td>\n",
       "    </tr>\n",
       "    <tr>\n",
       "      <th>11</th>\n",
       "      <td>https://astrogeology.usgs.gov/images/pds_logo-...</td>\n",
       "      <td>PDS Logo</td>\n",
       "    </tr>\n",
       "    <tr>\n",
       "      <th>12</th>\n",
       "      <td>https://astrogeology.usgs.gov/images/logos/rpi...</td>\n",
       "      <td>RPIF Logo</td>\n",
       "    </tr>\n",
       "    <tr>\n",
       "      <th>13</th>\n",
       "      <td>https://astrogeology.usgs.gov/images/logos/pho...</td>\n",
       "      <td>Photogrammetry Guest Faciltiy Logo</td>\n",
       "    </tr>\n",
       "    <tr>\n",
       "      <th>14</th>\n",
       "      <td>https://astrogeology.usgs.gov/images/logos/pil...</td>\n",
       "      <td>Pilot Logo</td>\n",
       "    </tr>\n",
       "    <tr>\n",
       "      <th>15</th>\n",
       "      <td>https://astrogeology.usgs.gov/images/logos/mrc...</td>\n",
       "      <td>MRCTR GIS Lab Logo</td>\n",
       "    </tr>\n",
       "  </tbody>\n",
       "</table>\n",
       "</div>"
      ],
      "text/plain": [
       "                                              IMG_URL  \\\n",
       "0   https://astrogeology.usgs.gov/images/usgs_logo...   \n",
       "1   https://astrogeology.usgs.gov/images/logos/nas...   \n",
       "2   https://astrogeology.usgs.gov/images/pds_logo-...   \n",
       "3   https://astrogeology.usgs.gov/images/astropedi...   \n",
       "4   https://astrogeology.usgs.gov/cache/images/dfa...   \n",
       "5   https://astrogeology.usgs.gov/cache/images/767...   \n",
       "6   https://astrogeology.usgs.gov/cache/images/aae...   \n",
       "7   https://astrogeology.usgs.gov/cache/images/040...   \n",
       "8   https://astrogeology.usgs.gov/images/logos/isi...   \n",
       "9   https://astrogeology.usgs.gov/images/logos/nom...   \n",
       "10  https://astrogeology.usgs.gov/images/logos/map...   \n",
       "11  https://astrogeology.usgs.gov/images/pds_logo-...   \n",
       "12  https://astrogeology.usgs.gov/images/logos/rpi...   \n",
       "13  https://astrogeology.usgs.gov/images/logos/pho...   \n",
       "14  https://astrogeology.usgs.gov/images/logos/pil...   \n",
       "15  https://astrogeology.usgs.gov/images/logos/mrc...   \n",
       "\n",
       "                                             TITLE  \n",
       "0               USGS: Science for a Changing World  \n",
       "1                                             NASA  \n",
       "2         PDS Cartography and Imaging Science Node  \n",
       "3                                       Astropedia  \n",
       "4           Cerberus Hemisphere Enhanced thumbnail  \n",
       "5       Schiaparelli Hemisphere Enhanced thumbnail  \n",
       "6       Syrtis Major Hemisphere Enhanced thumbnail  \n",
       "7   Valles Marineris Hemisphere Enhanced thumbnail  \n",
       "8                                        ISIS Logo  \n",
       "9                                Nomenclature Logo  \n",
       "10                               Map-a-Planet Logo  \n",
       "11                                        PDS Logo  \n",
       "12                                       RPIF Logo  \n",
       "13              Photogrammetry Guest Faciltiy Logo  \n",
       "14                                      Pilot Logo  \n",
       "15                              MRCTR GIS Lab Logo  "
      ]
     },
     "execution_count": 42,
     "metadata": {},
     "output_type": "execute_result"
    }
   ],
   "source": [
    "# Convert to Pandas dataframe and export in csv\n",
    "df = pd.DataFrame({'IMG_URL':link, 'TITLE': name}) \n",
    "df"
   ]
  },
  {
   "cell_type": "code",
   "execution_count": 43,
   "metadata": {},
   "outputs": [],
   "source": [
    "df.to_csv('ASTROGEOLOGY_NASA.csv', index=False, encoding='utf-8')"
   ]
  },
  {
   "cell_type": "code",
   "execution_count": null,
   "metadata": {},
   "outputs": [],
   "source": []
  },
  {
   "cell_type": "code",
   "execution_count": null,
   "metadata": {},
   "outputs": [],
   "source": [
    "\n",
    "\n"
   ]
  },
  {
   "cell_type": "code",
   "execution_count": null,
   "metadata": {},
   "outputs": [],
   "source": []
  },
  {
   "cell_type": "code",
   "execution_count": null,
   "metadata": {},
   "outputs": [],
   "source": []
  },
  {
   "cell_type": "code",
   "execution_count": null,
   "metadata": {},
   "outputs": [],
   "source": []
  },
  {
   "cell_type": "code",
   "execution_count": null,
   "metadata": {},
   "outputs": [],
   "source": []
  },
  {
   "cell_type": "code",
   "execution_count": null,
   "metadata": {},
   "outputs": [],
   "source": []
  },
  {
   "cell_type": "code",
   "execution_count": null,
   "metadata": {},
   "outputs": [],
   "source": []
  },
  {
   "cell_type": "code",
   "execution_count": null,
   "metadata": {},
   "outputs": [],
   "source": []
  },
  {
   "cell_type": "code",
   "execution_count": null,
   "metadata": {},
   "outputs": [],
   "source": []
  },
  {
   "cell_type": "code",
   "execution_count": null,
   "metadata": {},
   "outputs": [],
   "source": []
  },
  {
   "cell_type": "code",
   "execution_count": null,
   "metadata": {},
   "outputs": [],
   "source": []
  },
  {
   "cell_type": "code",
   "execution_count": null,
   "metadata": {},
   "outputs": [],
   "source": []
  },
  {
   "cell_type": "code",
   "execution_count": null,
   "metadata": {},
   "outputs": [],
   "source": []
  },
  {
   "cell_type": "code",
   "execution_count": null,
   "metadata": {},
   "outputs": [],
   "source": []
  },
  {
   "cell_type": "code",
   "execution_count": null,
   "metadata": {},
   "outputs": [],
   "source": []
  },
  {
   "cell_type": "code",
   "execution_count": null,
   "metadata": {},
   "outputs": [],
   "source": []
  },
  {
   "cell_type": "code",
   "execution_count": null,
   "metadata": {},
   "outputs": [],
   "source": []
  },
  {
   "cell_type": "code",
   "execution_count": null,
   "metadata": {},
   "outputs": [],
   "source": []
  },
  {
   "cell_type": "code",
   "execution_count": null,
   "metadata": {},
   "outputs": [],
   "source": []
  },
  {
   "cell_type": "code",
   "execution_count": null,
   "metadata": {},
   "outputs": [],
   "source": []
  },
  {
   "cell_type": "code",
   "execution_count": null,
   "metadata": {},
   "outputs": [],
   "source": []
  },
  {
   "cell_type": "code",
   "execution_count": null,
   "metadata": {},
   "outputs": [],
   "source": []
  },
  {
   "cell_type": "code",
   "execution_count": null,
   "metadata": {},
   "outputs": [],
   "source": []
  },
  {
   "cell_type": "code",
   "execution_count": null,
   "metadata": {},
   "outputs": [],
   "source": []
  },
  {
   "cell_type": "code",
   "execution_count": null,
   "metadata": {},
   "outputs": [],
   "source": []
  },
  {
   "cell_type": "code",
   "execution_count": null,
   "metadata": {},
   "outputs": [],
   "source": []
  },
  {
   "cell_type": "code",
   "execution_count": null,
   "metadata": {},
   "outputs": [],
   "source": []
  },
  {
   "cell_type": "code",
   "execution_count": null,
   "metadata": {},
   "outputs": [],
   "source": []
  },
  {
   "cell_type": "code",
   "execution_count": null,
   "metadata": {},
   "outputs": [],
   "source": []
  },
  {
   "cell_type": "code",
   "execution_count": null,
   "metadata": {},
   "outputs": [],
   "source": []
  },
  {
   "cell_type": "code",
   "execution_count": null,
   "metadata": {},
   "outputs": [],
   "source": []
  },
  {
   "cell_type": "code",
   "execution_count": null,
   "metadata": {},
   "outputs": [],
   "source": []
  }
 ],
 "metadata": {
  "kernelspec": {
   "display_name": "Python 3",
   "language": "python",
   "name": "python3"
  },
  "language_info": {
   "codemirror_mode": {
    "name": "ipython",
    "version": 3
   },
   "file_extension": ".py",
   "mimetype": "text/x-python",
   "name": "python",
   "nbconvert_exporter": "python",
   "pygments_lexer": "ipython3",
   "version": "3.7.3"
  }
 },
 "nbformat": 4,
 "nbformat_minor": 4
}
