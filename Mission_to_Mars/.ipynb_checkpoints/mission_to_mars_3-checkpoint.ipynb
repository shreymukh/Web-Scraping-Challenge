{
 "cells": [
  {
   "cell_type": "code",
   "execution_count": 1,
   "metadata": {},
   "outputs": [],
   "source": [
    "# Import Splinter and BeautifulSoup\n",
    "from splinter import Browser\n",
    "from bs4 import BeautifulSoup\n",
    "import requests\n",
    "import urllib.parse\n",
    "import pymongo\n",
    "import pprint\n",
    "import pandas as pd"
   ]
  },
  {
   "cell_type": "code",
   "execution_count": 2,
   "metadata": {},
   "outputs": [],
   "source": [
    "# SCRAPING https://twitter.com/marswxreport?lang=en\n",
    "\n",
    "# Set the executable path and initialize the chrome browser in splinter\n",
    "executable_path = {\"executable_path\":\"chromedriver.exe\"}\n",
    "browser = Browser(\"chrome\", **executable_path, headless=False)\n",
    "browser.visit(\"https://twitter.com/marswxreport?lang=en\")"
   ]
  },
  {
   "cell_type": "code",
   "execution_count": 13,
   "metadata": {},
   "outputs": [
    {
     "name": "stdout",
     "output_type": "stream",
     "text": [
      "200\n"
     ]
    }
   ],
   "source": [
    "url = 'https://twitter.com/marswxreport?lang=en'\n",
    "response = requests.get(url)\n",
    "print(response.status_code)"
   ]
  },
  {
   "cell_type": "code",
   "execution_count": 4,
   "metadata": {},
   "outputs": [],
   "source": [
    "#response.text"
   ]
  },
  {
   "cell_type": "code",
   "execution_count": 9,
   "metadata": {},
   "outputs": [
    {
     "name": "stdout",
     "output_type": "stream",
     "text": [
      "js-tweet-text-container\n"
     ]
    }
   ],
   "source": [
    "searchterm = urllib.parse.quote('js-tweet-text-container')\n",
    "print(searchterm)"
   ]
  },
  {
   "cell_type": "code",
   "execution_count": 14,
   "metadata": {},
   "outputs": [],
   "source": [
    "# Convert the browser html to a soup object \n",
    "soup = browser.html\n",
    "news_soup = BeautifulSoup(soup, 'html.parser')\n",
    "#print(news_soup.prettify())"
   ]
  },
  {
   "cell_type": "code",
   "execution_count": 15,
   "metadata": {},
   "outputs": [
    {
     "name": "stdout",
     "output_type": "stream",
     "text": [
      "\n",
      "InSight sol 360 (2019-12-01) low -100.1ºC (-148.3ºF) high -20.6ºC (-5.1ºF)\n",
      "winds from the SSE at 5.0 m/s (11.2 mph) gusting to 19.5 m/s (43.7 mph)\n",
      "pressure at 6.70 hPapic.twitter.com/YLEhj8gQGi\n",
      "\n"
     ]
    }
   ],
   "source": [
    "link = news_soup.find(\"div\", class_='js-tweet-text-container').get_text()\n",
    "print(link)"
   ]
  },
  {
   "cell_type": "code",
   "execution_count": 47,
   "metadata": {},
   "outputs": [
    {
     "name": "stdout",
     "output_type": "stream",
     "text": [
      "[<div class=\"js-tweet-text-container\">\n",
      "<p class=\"TweetTextSize TweetTextSize--normal js-tweet-text tweet-text\" data-aria-label-part=\"0\" lang=\"en\">InSight sol 360 (2019-12-01) low -100.1ºC (-148.3ºF) high -20.6ºC (-5.1ºF)\n",
      "winds from the SSE at 5.0 m/s (11.2 mph) gusting to 19.5 m/s (43.7 mph)\n",
      "pressure at 6.70 hPa<a class=\"twitter-timeline-link u-hidden\" data-pre-embedded=\"true\" dir=\"ltr\" href=\"https://t.co/YLEhj8gQGi\">pic.twitter.com/YLEhj8gQGi</a></p>\n",
      "</div>, <div class=\"js-tweet-text-container\">\n",
      "<p class=\"TweetTextSize TweetTextSize--normal js-tweet-text tweet-text\" data-aria-label-part=\"0\" lang=\"en\">InSight sol 359 (2019-11-30) low -99.3ºC (-146.8ºF) high -21.8ºC (-7.2ºF)\n",
      "winds from the SSE at 5.8 m/s (13.0 mph) gusting to 23.3 m/s (52.0 mph)\n",
      "pressure at 6.70 hPa<a class=\"twitter-timeline-link u-hidden\" data-pre-embedded=\"true\" dir=\"ltr\" href=\"https://t.co/cKJj2YTDad\">pic.twitter.com/cKJj2YTDad</a></p>\n",
      "</div>, <div class=\"js-tweet-text-container\">\n",
      "<p class=\"TweetTextSize TweetTextSize--normal js-tweet-text tweet-text\" data-aria-label-part=\"0\" lang=\"en\">InSight sol 358 (2019-11-29) low -99.0ºC (-146.1ºF) high -21.5ºC (-6.7ºF)\n",
      "winds from the SSE at 5.4 m/s (12.0 mph) gusting to 19.5 m/s (43.6 mph)\n",
      "pressure at 6.70 hPa<a class=\"twitter-timeline-link u-hidden\" data-pre-embedded=\"true\" dir=\"ltr\" href=\"https://t.co/U4v6qiVlSW\">pic.twitter.com/U4v6qiVlSW</a></p>\n",
      "</div>, <div class=\"js-tweet-text-container\">\n",
      "<p class=\"TweetTextSize TweetTextSize--normal js-tweet-text tweet-text\" data-aria-label-part=\"0\" lang=\"en\">InSight sol 357 (2019-11-28) low -101.0ºC (-149.8ºF) high -20.8ºC (-5.4ºF)\n",
      "winds from the SSE at 5.3 m/s (11.8 mph) gusting to 20.7 m/s (46.3 mph)\n",
      "pressure at 6.70 hPa<a class=\"twitter-timeline-link u-hidden\" data-pre-embedded=\"true\" dir=\"ltr\" href=\"https://t.co/xTk37j1IsN\">pic.twitter.com/xTk37j1IsN</a></p>\n",
      "</div>, <div class=\"js-tweet-text-container\">\n",
      "<p class=\"TweetTextSize TweetTextSize--normal js-tweet-text tweet-text\" data-aria-label-part=\"0\" lang=\"en\">Anything worth doing is worth doing precisely <a class=\"twitter-hashtag pretty-link js-nav\" data-query-source=\"hashtag_click\" dir=\"ltr\" href=\"/hashtag/HappyThanksgiving?src=hash\"><s>#</s><b>HappyThanksgiving</b></a><a class=\"twitter-timeline-link u-hidden\" data-pre-embedded=\"true\" dir=\"ltr\" href=\"https://t.co/UaDowSl3yN\">pic.twitter.com/UaDowSl3yN</a></p>\n",
      "</div>, <div class=\"js-tweet-text-container\">\n",
      "<p class=\"TweetTextSize TweetTextSize--normal js-tweet-text tweet-text\" data-aria-label-part=\"0\" lang=\"en\">InSight sol 356 (2019-11-27) low -100.0ºC (-148.0ºF) high -21.7ºC (-7.1ºF)\n",
      "winds from the SSE at 5.2 m/s (11.7 mph) gusting to 19.0 m/s (42.6 mph)\n",
      "pressure at 6.70 hPa<a class=\"twitter-timeline-link u-hidden\" data-pre-embedded=\"true\" dir=\"ltr\" href=\"https://t.co/oNdx3LsNy6\">pic.twitter.com/oNdx3LsNy6</a></p>\n",
      "</div>, <div class=\"js-tweet-text-container\">\n",
      "<p class=\"TweetTextSize TweetTextSize--normal js-tweet-text tweet-text\" data-aria-label-part=\"0\" lang=\"en\">InSight sol 355 (2019-11-25) low -99.6ºC (-147.4ºF) high -23.2ºC (-9.7ºF)\n",
      "winds from the SSE at 5.4 m/s (12.2 mph) gusting to 19.8 m/s (44.2 mph)\n",
      "pressure at 6.70 hPa<a class=\"twitter-timeline-link u-hidden\" data-pre-embedded=\"true\" dir=\"ltr\" href=\"https://t.co/i0OVq2GJsM\">pic.twitter.com/i0OVq2GJsM</a></p>\n",
      "</div>, <div class=\"js-tweet-text-container\">\n",
      "<p class=\"TweetTextSize TweetTextSize--normal js-tweet-text tweet-text\" data-aria-label-part=\"0\" lang=\"en\">InSight sol 354 (2019-11-24) low -99.7ºC (-147.5ºF) high -22.6ºC (-8.6ºF)\n",
      "winds from the SSW at 4.8 m/s (10.8 mph) gusting to 23.9 m/s (53.5 mph)\n",
      "pressure at 6.80 hPa<a class=\"twitter-timeline-link u-hidden\" data-pre-embedded=\"true\" dir=\"ltr\" href=\"https://t.co/QojEKyxlhp\">pic.twitter.com/QojEKyxlhp</a></p>\n",
      "</div>, <div class=\"js-tweet-text-container\">\n",
      "<p class=\"TweetTextSize TweetTextSize--normal js-tweet-text tweet-text\" data-aria-label-part=\"0\" lang=\"en\">InSight sol 353 (2019-11-24) low -100.6ºC (-149.1ºF) high -23.3ºC (-10.0ºF)\n",
      "winds from the SSE at 5.8 m/s (13.1 mph) gusting to 21.4 m/s (47.9 mph)\n",
      "pressure at 6.70 hPa<a class=\"twitter-timeline-link u-hidden\" data-pre-embedded=\"true\" dir=\"ltr\" href=\"https://t.co/NPmuRAuvQ7\">pic.twitter.com/NPmuRAuvQ7</a></p>\n",
      "</div>, <div class=\"js-tweet-text-container\">\n",
      "<p class=\"TweetTextSize TweetTextSize--normal js-tweet-text tweet-text\" data-aria-label-part=\"0\" lang=\"en\">InSight sol 352 (2019-11-23) low -100.7ºC (-149.3ºF) high -22.0ºC (-7.6ºF)\n",
      "winds from the S at 5.7 m/s (12.8 mph) gusting to 21.9 m/s (49.0 mph)\n",
      "pressure at 6.80 hPa<a class=\"twitter-timeline-link u-hidden\" data-pre-embedded=\"true\" dir=\"ltr\" href=\"https://t.co/fXsaTX3DDB\">pic.twitter.com/fXsaTX3DDB</a></p>\n",
      "</div>, <div class=\"js-tweet-text-container\">\n",
      "<p class=\"TweetTextSize TweetTextSize--normal js-tweet-text tweet-text\" data-aria-label-part=\"0\" lang=\"en\">InSight sol 351 (2019-11-22) low -100.4ºC (-148.7ºF) high -22.6ºC (-8.6ºF)\n",
      "winds from the SSE at 5.5 m/s (12.3 mph) gusting to 23.7 m/s (53.1 mph)\n",
      "pressure at 6.70 hPa<a class=\"twitter-timeline-link u-hidden\" data-pre-embedded=\"true\" dir=\"ltr\" href=\"https://t.co/HEvWMSOcYQ\">pic.twitter.com/HEvWMSOcYQ</a></p>\n",
      "</div>, <div class=\"js-tweet-text-container\">\n",
      "<p class=\"TweetTextSize TweetTextSize--normal js-tweet-text tweet-text\" data-aria-label-part=\"0\" lang=\"en\">InSight sol 350 (2019-11-20) low -103.0ºC (-153.4ºF) high -23.2ºC (-9.8ºF)\n",
      "winds from the SSE at 5.0 m/s (11.2 mph) gusting to 20.7 m/s (46.4 mph)\n",
      "pressure at 6.80 hPa<a class=\"twitter-timeline-link u-hidden\" data-pre-embedded=\"true\" dir=\"ltr\" href=\"https://t.co/OXkl0lJczQ\">pic.twitter.com/OXkl0lJczQ</a></p>\n",
      "</div>, <div class=\"js-tweet-text-container\">\n",
      "<p class=\"TweetTextSize TweetTextSize--normal js-tweet-text tweet-text\" data-aria-label-part=\"0\" lang=\"en\">InSight sol 349 (2019-11-19) low -103.2ºC (-153.8ºF) high -22.3ºC (-8.1ºF)\n",
      "winds from the SSE at 4.8 m/s (10.7 mph) gusting to 18.4 m/s (41.1 mph)\n",
      "pressure at 6.80 hPa<a class=\"twitter-timeline-link u-hidden\" data-pre-embedded=\"true\" dir=\"ltr\" href=\"https://t.co/8235o0ln3B\">pic.twitter.com/8235o0ln3B</a></p>\n",
      "</div>, <div class=\"js-tweet-text-container\">\n",
      "<p class=\"TweetTextSize TweetTextSize--normal js-tweet-text tweet-text\" data-aria-label-part=\"0\" lang=\"en\">InSight sol 348 (2019-11-19) low -102.5ºC (-152.5ºF) high -23.2ºC (-9.8ºF)\n",
      "winds from the SSE at 5.1 m/s (11.5 mph) gusting to 18.9 m/s (42.3 mph)\n",
      "pressure at 6.80 hPa<a class=\"twitter-timeline-link u-hidden\" data-pre-embedded=\"true\" dir=\"ltr\" href=\"https://t.co/iZwojPj9au\">pic.twitter.com/iZwojPj9au</a></p>\n",
      "</div>, <div class=\"js-tweet-text-container\">\n",
      "<p class=\"TweetTextSize TweetTextSize--normal js-tweet-text tweet-text\" data-aria-label-part=\"0\" lang=\"en\">InSight sol 347 (2019-11-17) low -102.0ºC (-151.6ºF) high -23.7ºC (-10.7ºF)\n",
      "winds from the SSE at 4.8 m/s (10.8 mph) gusting to 19.6 m/s (43.8 mph)\n",
      "pressure at 6.80 hPa<a class=\"twitter-timeline-link u-hidden\" data-pre-embedded=\"true\" dir=\"ltr\" href=\"https://t.co/scrxCgTA81\">pic.twitter.com/scrxCgTA81</a></p>\n",
      "</div>, <div class=\"js-tweet-text-container\">\n",
      "<p class=\"TweetTextSize TweetTextSize--normal js-tweet-text tweet-text\" data-aria-label-part=\"0\" lang=\"en\">First geologic map of Saturn's moon Titan. The Cassini mission continues to deliver. <a class=\"twitter-timeline-link\" data-expanded-url=\"https://www.jpl.nasa.gov/news/news.php?feature=7542\" dir=\"ltr\" href=\"https://t.co/L9bMnYPuh0\" rel=\"nofollow noopener\" target=\"_blank\" title=\"https://www.jpl.nasa.gov/news/news.php?feature=7542\"><span class=\"tco-ellipsis\"></span><span class=\"invisible\">https://www.</span><span class=\"js-display-url\">jpl.nasa.gov/news/news.php?</span><span class=\"invisible\">feature=7542</span><span class=\"tco-ellipsis\"><span class=\"invisible\"> </span>…</span></a><a class=\"twitter-timeline-link u-hidden\" data-pre-embedded=\"true\" dir=\"ltr\" href=\"https://t.co/tGK8vUWw81\">pic.twitter.com/tGK8vUWw81</a></p>\n",
      "</div>, <div class=\"js-tweet-text-container\">\n",
      "<p class=\"TweetTextSize TweetTextSize--normal js-tweet-text tweet-text\" data-aria-label-part=\"0\" lang=\"en\">InSight sol 346 (2019-11-16) low -101.5ºC (-150.8ºF) high -23.5ºC (-10.3ºF)\n",
      "winds from the SSE at 4.8 m/s (10.8 mph) gusting to 20.0 m/s (44.7 mph)\n",
      "pressure at 6.80 hPa<a class=\"twitter-timeline-link u-hidden\" data-pre-embedded=\"true\" dir=\"ltr\" href=\"https://t.co/zAXfs9KpgE\">pic.twitter.com/zAXfs9KpgE</a></p>\n",
      "</div>, <div class=\"js-tweet-text-container\">\n",
      "<p class=\"TweetTextSize TweetTextSize--normal js-tweet-text tweet-text\" data-aria-label-part=\"0\" lang=\"en\">InSight sol 345 (2019-11-15) low -100.4ºC (-148.6ºF) high -23.9ºC (-11.1ºF)\n",
      "winds from the SSE at 5.4 m/s (12.0 mph) gusting to 20.2 m/s (45.3 mph)\n",
      "pressure at 6.80 hPa<a class=\"twitter-timeline-link u-hidden\" data-pre-embedded=\"true\" dir=\"ltr\" href=\"https://t.co/LM9HL7PUX0\">pic.twitter.com/LM9HL7PUX0</a></p>\n",
      "</div>, <div class=\"js-tweet-text-container\">\n",
      "<p class=\"TweetTextSize TweetTextSize--normal js-tweet-text tweet-text\" data-aria-label-part=\"0\" lang=\"en\">InSight sol 344 (2019-11-15) low -99.9ºC (-147.9ºF) high -23.3ºC (-9.9ºF)\n",
      "winds from the SSE at 5.7 m/s (12.9 mph) gusting to 18.9 m/s (42.3 mph)\n",
      "pressure at 6.80 hPa<a class=\"twitter-timeline-link u-hidden\" data-pre-embedded=\"true\" dir=\"ltr\" href=\"https://t.co/KfHgLqxVBk\">pic.twitter.com/KfHgLqxVBk</a></p>\n",
      "</div>, <div class=\"js-tweet-text-container\">\n",
      "<p class=\"TweetTextSize TweetTextSize--normal js-tweet-text tweet-text\" data-aria-label-part=\"0\" lang=\"en\">InSight sol 343 (2019-11-13) low -100.8ºC (-149.4ºF) high -23.1ºC (-9.5ºF)\n",
      "winds from the SSE at 5.2 m/s (11.7 mph) gusting to 20.8 m/s (46.5 mph)\n",
      "pressure at 6.90 hPa</p>\n",
      "</div>]\n"
     ]
    }
   ],
   "source": [
    "get_link = news_soup.find_all(\"div\", class_='js-tweet-text-container')\n",
    "print(get_link)"
   ]
  },
  {
   "cell_type": "code",
   "execution_count": 37,
   "metadata": {},
   "outputs": [
    {
     "name": "stdout",
     "output_type": "stream",
     "text": [
      "\n",
      "InSight sol 360 (2019-12-01) low -100.1ºC (-148.3ºF) high -20.6ºC (-5.1ºF)\n",
      "winds from the SSE at 5.0 m/s (11.2 mph) gusting to 19.5 m/s (43.7 mph)\n",
      "pressure at 6.70 hPapic.twitter.com/YLEhj8gQGi\n",
      "\n",
      "\n",
      "InSight sol 359 (2019-11-30) low -99.3ºC (-146.8ºF) high -21.8ºC (-7.2ºF)\n",
      "winds from the SSE at 5.8 m/s (13.0 mph) gusting to 23.3 m/s (52.0 mph)\n",
      "pressure at 6.70 hPapic.twitter.com/cKJj2YTDad\n",
      "\n",
      "\n",
      "InSight sol 358 (2019-11-29) low -99.0ºC (-146.1ºF) high -21.5ºC (-6.7ºF)\n",
      "winds from the SSE at 5.4 m/s (12.0 mph) gusting to 19.5 m/s (43.6 mph)\n",
      "pressure at 6.70 hPapic.twitter.com/U4v6qiVlSW\n",
      "\n",
      "\n",
      "InSight sol 357 (2019-11-28) low -101.0ºC (-149.8ºF) high -20.8ºC (-5.4ºF)\n",
      "winds from the SSE at 5.3 m/s (11.8 mph) gusting to 20.7 m/s (46.3 mph)\n",
      "pressure at 6.70 hPapic.twitter.com/xTk37j1IsN\n",
      "\n",
      "\n",
      "Anything worth doing is worth doing precisely #HappyThanksgivingpic.twitter.com/UaDowSl3yN\n",
      "\n",
      "\n",
      "InSight sol 356 (2019-11-27) low -100.0ºC (-148.0ºF) high -21.7ºC (-7.1ºF)\n",
      "winds from the SSE at 5.2 m/s (11.7 mph) gusting to 19.0 m/s (42.6 mph)\n",
      "pressure at 6.70 hPapic.twitter.com/oNdx3LsNy6\n",
      "\n",
      "\n",
      "InSight sol 355 (2019-11-25) low -99.6ºC (-147.4ºF) high -23.2ºC (-9.7ºF)\n",
      "winds from the SSE at 5.4 m/s (12.2 mph) gusting to 19.8 m/s (44.2 mph)\n",
      "pressure at 6.70 hPapic.twitter.com/i0OVq2GJsM\n",
      "\n",
      "\n",
      "InSight sol 354 (2019-11-24) low -99.7ºC (-147.5ºF) high -22.6ºC (-8.6ºF)\n",
      "winds from the SSW at 4.8 m/s (10.8 mph) gusting to 23.9 m/s (53.5 mph)\n",
      "pressure at 6.80 hPapic.twitter.com/QojEKyxlhp\n",
      "\n",
      "\n",
      "InSight sol 353 (2019-11-24) low -100.6ºC (-149.1ºF) high -23.3ºC (-10.0ºF)\n",
      "winds from the SSE at 5.8 m/s (13.1 mph) gusting to 21.4 m/s (47.9 mph)\n",
      "pressure at 6.70 hPapic.twitter.com/NPmuRAuvQ7\n",
      "\n",
      "\n",
      "InSight sol 352 (2019-11-23) low -100.7ºC (-149.3ºF) high -22.0ºC (-7.6ºF)\n",
      "winds from the S at 5.7 m/s (12.8 mph) gusting to 21.9 m/s (49.0 mph)\n",
      "pressure at 6.80 hPapic.twitter.com/fXsaTX3DDB\n",
      "\n",
      "\n",
      "InSight sol 351 (2019-11-22) low -100.4ºC (-148.7ºF) high -22.6ºC (-8.6ºF)\n",
      "winds from the SSE at 5.5 m/s (12.3 mph) gusting to 23.7 m/s (53.1 mph)\n",
      "pressure at 6.70 hPapic.twitter.com/HEvWMSOcYQ\n",
      "\n",
      "\n",
      "InSight sol 350 (2019-11-20) low -103.0ºC (-153.4ºF) high -23.2ºC (-9.8ºF)\n",
      "winds from the SSE at 5.0 m/s (11.2 mph) gusting to 20.7 m/s (46.4 mph)\n",
      "pressure at 6.80 hPapic.twitter.com/OXkl0lJczQ\n",
      "\n",
      "\n",
      "InSight sol 349 (2019-11-19) low -103.2ºC (-153.8ºF) high -22.3ºC (-8.1ºF)\n",
      "winds from the SSE at 4.8 m/s (10.7 mph) gusting to 18.4 m/s (41.1 mph)\n",
      "pressure at 6.80 hPapic.twitter.com/8235o0ln3B\n",
      "\n",
      "\n",
      "InSight sol 348 (2019-11-19) low -102.5ºC (-152.5ºF) high -23.2ºC (-9.8ºF)\n",
      "winds from the SSE at 5.1 m/s (11.5 mph) gusting to 18.9 m/s (42.3 mph)\n",
      "pressure at 6.80 hPapic.twitter.com/iZwojPj9au\n",
      "\n",
      "\n",
      "InSight sol 347 (2019-11-17) low -102.0ºC (-151.6ºF) high -23.7ºC (-10.7ºF)\n",
      "winds from the SSE at 4.8 m/s (10.8 mph) gusting to 19.6 m/s (43.8 mph)\n",
      "pressure at 6.80 hPapic.twitter.com/scrxCgTA81\n",
      "\n",
      "\n",
      "First geologic map of Saturn's moon Titan. The Cassini mission continues to deliver. https://www.jpl.nasa.gov/news/news.php?feature=7542 …pic.twitter.com/tGK8vUWw81\n",
      "\n",
      "\n",
      "InSight sol 346 (2019-11-16) low -101.5ºC (-150.8ºF) high -23.5ºC (-10.3ºF)\n",
      "winds from the SSE at 4.8 m/s (10.8 mph) gusting to 20.0 m/s (44.7 mph)\n",
      "pressure at 6.80 hPapic.twitter.com/zAXfs9KpgE\n",
      "\n",
      "\n",
      "InSight sol 345 (2019-11-15) low -100.4ºC (-148.6ºF) high -23.9ºC (-11.1ºF)\n",
      "winds from the SSE at 5.4 m/s (12.0 mph) gusting to 20.2 m/s (45.3 mph)\n",
      "pressure at 6.80 hPapic.twitter.com/LM9HL7PUX0\n",
      "\n",
      "\n",
      "InSight sol 344 (2019-11-15) low -99.9ºC (-147.9ºF) high -23.3ºC (-9.9ºF)\n",
      "winds from the SSE at 5.7 m/s (12.9 mph) gusting to 18.9 m/s (42.3 mph)\n",
      "pressure at 6.80 hPapic.twitter.com/KfHgLqxVBk\n",
      "\n",
      "\n",
      "InSight sol 343 (2019-11-13) low -100.8ºC (-149.4ºF) high -23.1ºC (-9.5ºF)\n",
      "winds from the SSE at 5.2 m/s (11.7 mph) gusting to 20.8 m/s (46.5 mph)\n",
      "pressure at 6.90 hPa\n",
      "\n"
     ]
    }
   ],
   "source": [
    "for link in get_link:\n",
    "    print(link.text)"
   ]
  },
  {
   "cell_type": "code",
   "execution_count": 43,
   "metadata": {},
   "outputs": [],
   "source": [
    "Para =[]\n",
    "for l in get_link:\n",
    "    para_link = Para.append(l.text)  "
   ]
  },
  {
   "cell_type": "code",
   "execution_count": 44,
   "metadata": {},
   "outputs": [
    {
     "data": {
      "text/html": [
       "<div>\n",
       "<style scoped>\n",
       "    .dataframe tbody tr th:only-of-type {\n",
       "        vertical-align: middle;\n",
       "    }\n",
       "\n",
       "    .dataframe tbody tr th {\n",
       "        vertical-align: top;\n",
       "    }\n",
       "\n",
       "    .dataframe thead th {\n",
       "        text-align: right;\n",
       "    }\n",
       "</style>\n",
       "<table border=\"1\" class=\"dataframe\">\n",
       "  <thead>\n",
       "    <tr style=\"text-align: right;\">\n",
       "      <th></th>\n",
       "      <th>Nasa_tweet</th>\n",
       "    </tr>\n",
       "  </thead>\n",
       "  <tbody>\n",
       "    <tr>\n",
       "      <th>0</th>\n",
       "      <td>\\nInSight sol 360 (2019-12-01) low -100.1ºC (-...</td>\n",
       "    </tr>\n",
       "    <tr>\n",
       "      <th>1</th>\n",
       "      <td>\\nInSight sol 359 (2019-11-30) low -99.3ºC (-1...</td>\n",
       "    </tr>\n",
       "    <tr>\n",
       "      <th>2</th>\n",
       "      <td>\\nInSight sol 358 (2019-11-29) low -99.0ºC (-1...</td>\n",
       "    </tr>\n",
       "    <tr>\n",
       "      <th>3</th>\n",
       "      <td>\\nInSight sol 357 (2019-11-28) low -101.0ºC (-...</td>\n",
       "    </tr>\n",
       "    <tr>\n",
       "      <th>4</th>\n",
       "      <td>\\nAnything worth doing is worth doing precisel...</td>\n",
       "    </tr>\n",
       "    <tr>\n",
       "      <th>5</th>\n",
       "      <td>\\nInSight sol 356 (2019-11-27) low -100.0ºC (-...</td>\n",
       "    </tr>\n",
       "    <tr>\n",
       "      <th>6</th>\n",
       "      <td>\\nInSight sol 355 (2019-11-25) low -99.6ºC (-1...</td>\n",
       "    </tr>\n",
       "    <tr>\n",
       "      <th>7</th>\n",
       "      <td>\\nInSight sol 354 (2019-11-24) low -99.7ºC (-1...</td>\n",
       "    </tr>\n",
       "    <tr>\n",
       "      <th>8</th>\n",
       "      <td>\\nInSight sol 353 (2019-11-24) low -100.6ºC (-...</td>\n",
       "    </tr>\n",
       "    <tr>\n",
       "      <th>9</th>\n",
       "      <td>\\nInSight sol 352 (2019-11-23) low -100.7ºC (-...</td>\n",
       "    </tr>\n",
       "    <tr>\n",
       "      <th>10</th>\n",
       "      <td>\\nInSight sol 351 (2019-11-22) low -100.4ºC (-...</td>\n",
       "    </tr>\n",
       "    <tr>\n",
       "      <th>11</th>\n",
       "      <td>\\nInSight sol 350 (2019-11-20) low -103.0ºC (-...</td>\n",
       "    </tr>\n",
       "    <tr>\n",
       "      <th>12</th>\n",
       "      <td>\\nInSight sol 349 (2019-11-19) low -103.2ºC (-...</td>\n",
       "    </tr>\n",
       "    <tr>\n",
       "      <th>13</th>\n",
       "      <td>\\nInSight sol 348 (2019-11-19) low -102.5ºC (-...</td>\n",
       "    </tr>\n",
       "    <tr>\n",
       "      <th>14</th>\n",
       "      <td>\\nInSight sol 347 (2019-11-17) low -102.0ºC (-...</td>\n",
       "    </tr>\n",
       "    <tr>\n",
       "      <th>15</th>\n",
       "      <td>\\nFirst geologic map of Saturn's moon Titan. T...</td>\n",
       "    </tr>\n",
       "    <tr>\n",
       "      <th>16</th>\n",
       "      <td>\\nInSight sol 346 (2019-11-16) low -101.5ºC (-...</td>\n",
       "    </tr>\n",
       "    <tr>\n",
       "      <th>17</th>\n",
       "      <td>\\nInSight sol 345 (2019-11-15) low -100.4ºC (-...</td>\n",
       "    </tr>\n",
       "    <tr>\n",
       "      <th>18</th>\n",
       "      <td>\\nInSight sol 344 (2019-11-15) low -99.9ºC (-1...</td>\n",
       "    </tr>\n",
       "    <tr>\n",
       "      <th>19</th>\n",
       "      <td>\\nInSight sol 343 (2019-11-13) low -100.8ºC (-...</td>\n",
       "    </tr>\n",
       "  </tbody>\n",
       "</table>\n",
       "</div>"
      ],
      "text/plain": [
       "                                           Nasa_tweet\n",
       "0   \\nInSight sol 360 (2019-12-01) low -100.1ºC (-...\n",
       "1   \\nInSight sol 359 (2019-11-30) low -99.3ºC (-1...\n",
       "2   \\nInSight sol 358 (2019-11-29) low -99.0ºC (-1...\n",
       "3   \\nInSight sol 357 (2019-11-28) low -101.0ºC (-...\n",
       "4   \\nAnything worth doing is worth doing precisel...\n",
       "5   \\nInSight sol 356 (2019-11-27) low -100.0ºC (-...\n",
       "6   \\nInSight sol 355 (2019-11-25) low -99.6ºC (-1...\n",
       "7   \\nInSight sol 354 (2019-11-24) low -99.7ºC (-1...\n",
       "8   \\nInSight sol 353 (2019-11-24) low -100.6ºC (-...\n",
       "9   \\nInSight sol 352 (2019-11-23) low -100.7ºC (-...\n",
       "10  \\nInSight sol 351 (2019-11-22) low -100.4ºC (-...\n",
       "11  \\nInSight sol 350 (2019-11-20) low -103.0ºC (-...\n",
       "12  \\nInSight sol 349 (2019-11-19) low -103.2ºC (-...\n",
       "13  \\nInSight sol 348 (2019-11-19) low -102.5ºC (-...\n",
       "14  \\nInSight sol 347 (2019-11-17) low -102.0ºC (-...\n",
       "15  \\nFirst geologic map of Saturn's moon Titan. T...\n",
       "16  \\nInSight sol 346 (2019-11-16) low -101.5ºC (-...\n",
       "17  \\nInSight sol 345 (2019-11-15) low -100.4ºC (-...\n",
       "18  \\nInSight sol 344 (2019-11-15) low -99.9ºC (-1...\n",
       "19  \\nInSight sol 343 (2019-11-13) low -100.8ºC (-..."
      ]
     },
     "execution_count": 44,
     "metadata": {},
     "output_type": "execute_result"
    }
   ],
   "source": [
    "# Convert to Pandas dataframe and export in csv\n",
    "df = pd.DataFrame({'Nasa_tweet':Para}) \n",
    "df"
   ]
  },
  {
   "cell_type": "code",
   "execution_count": 46,
   "metadata": {},
   "outputs": [],
   "source": [
    "df.to_csv('TWITTER_NASA.csv', index=False, encoding='utf-8')"
   ]
  },
  {
   "cell_type": "code",
   "execution_count": null,
   "metadata": {},
   "outputs": [],
   "source": []
  },
  {
   "cell_type": "code",
   "execution_count": null,
   "metadata": {},
   "outputs": [],
   "source": []
  },
  {
   "cell_type": "code",
   "execution_count": null,
   "metadata": {},
   "outputs": [],
   "source": []
  },
  {
   "cell_type": "code",
   "execution_count": null,
   "metadata": {},
   "outputs": [],
   "source": []
  },
  {
   "cell_type": "code",
   "execution_count": null,
   "metadata": {},
   "outputs": [],
   "source": []
  }
 ],
 "metadata": {
  "kernelspec": {
   "display_name": "Python 3",
   "language": "python",
   "name": "python3"
  },
  "language_info": {
   "codemirror_mode": {
    "name": "ipython",
    "version": 3
   },
   "file_extension": ".py",
   "mimetype": "text/x-python",
   "name": "python",
   "nbconvert_exporter": "python",
   "pygments_lexer": "ipython3",
   "version": "3.7.3"
  }
 },
 "nbformat": 4,
 "nbformat_minor": 4
}
